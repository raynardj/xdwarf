{
 "cells": [
  {
   "cell_type": "markdown",
   "metadata": {},
   "source": [
    "# Dwarf\n",
    "> Insanely fast XML miner"
   ]
  },
  {
   "cell_type": "markdown",
   "metadata": {},
   "source": [
    "## Importing"
   ]
  },
  {
   "cell_type": "code",
   "execution_count": 1,
   "metadata": {},
   "outputs": [],
   "source": [
    "from xdwarf import Dwarf\n",
    "from xdwarf import Treasure"
   ]
  },
  {
   "cell_type": "code",
   "execution_count": 2,
   "metadata": {},
   "outputs": [],
   "source": [
    "dwarf = Dwarf.from_glob(\"../test/data/*.xml\", \"PMC\",-2)"
   ]
  },
  {
   "cell_type": "markdown",
   "metadata": {},
   "source": [
    "## Test data"
   ]
  },
  {
   "cell_type": "code",
   "execution_count": 6,
   "metadata": {},
   "outputs": [
    {
     "name": "stdout",
     "output_type": "stream",
     "text": [
      " 31M\t../test/data/\r\n"
     ]
    }
   ],
   "source": [
    "!du -sh ../test/data/"
   ]
  },
  {
   "cell_type": "code",
   "execution_count": 7,
   "metadata": {},
   "outputs": [
    {
     "name": "stdout",
     "output_type": "stream",
     "text": [
      "     509\r\n"
     ]
    }
   ],
   "source": [
    "!ls -l ../test/data/|wc -l"
   ]
  },
  {
   "cell_type": "code",
   "execution_count": 4,
   "metadata": {},
   "outputs": [
    {
     "data": {
      "text/plain": [
       "PMC\n",
       "Dwarf: PMC, []"
      ]
     },
     "execution_count": 4,
     "metadata": {},
     "output_type": "execute_result"
    }
   ],
   "source": [
    "dwarf"
   ]
  },
  {
   "cell_type": "markdown",
   "metadata": {},
   "source": [
    "## Define query rule"
   ]
  },
  {
   "cell_type": "code",
   "execution_count": 8,
   "metadata": {},
   "outputs": [
    {
     "data": {
      "text/plain": [
       "Dwarf Field <ref_surname>"
      ]
     },
     "execution_count": 8,
     "metadata": {},
     "output_type": "execute_result"
    }
   ],
   "source": [
    "dwarf.find_one('article-meta > article-id[pub-id-type=pmid]' , \"pmid\")\n",
    "dwarf.find_one(\"abstract\", \"abstract\").find_many(\"p\", \"paragraph\")\n",
    "reference = dwarf.find_one(\"ref-list\", \"ref_list\").find_many(\"ref\",\"reference\")\n",
    "reference.find_one(\"pub-id[pub-id-type=pmid]\", \"ref_id\")\n",
    "reference.find_one(\"pub-id[pub-id-type=doi]\", \"doi\")\n",
    "ref_name = reference.find_many(\"name\", \"ref_name\")\n",
    "ref_name.find_one(\"surname\", \"ref_surname\")"
   ]
  },
  {
   "cell_type": "code",
   "execution_count": 9,
   "metadata": {},
   "outputs": [],
   "source": [
    "dwarf.set_necessary(\"pmid\")\n",
    "dwarf.create_children()"
   ]
  },
  {
   "cell_type": "markdown",
   "metadata": {},
   "source": [
    "Tree structure mining schema"
   ]
  },
  {
   "cell_type": "code",
   "execution_count": 10,
   "metadata": {},
   "outputs": [
    {
     "data": {
      "text/plain": [
       "PMC\n",
       "Dwarf: PMC, [\"pmid\", \"abstract\", \"ref_list\"]\n",
       "Field[pmid]⛏on <article-meta>,required:true,is_all:false\n",
       "Field[abstract]⛏on <abstract>,required:false,is_all:false\n",
       "\tField[paragraph]⛏on <p>,required:false,is_all:true\n",
       "Field[ref_list]⛏on <ref-list>,required:false,is_all:false\n",
       "\tField[reference]⛏on <ref>,required:false,is_all:true\n",
       "\t\tField[ref_id]⛏on <pub-id>,required:false,is_all:false\n",
       "\t\tField[doi]⛏on <pub-id>,required:false,is_all:false\n",
       "\t\tField[ref_name]⛏on <name>,required:false,is_all:true\n",
       "\t\t\tField[ref_surname]⛏on <surname>,required:false,is_all:false"
      ]
     },
     "execution_count": 10,
     "metadata": {},
     "output_type": "execute_result"
    }
   ],
   "source": [
    "dwarf"
   ]
  },
  {
   "cell_type": "markdown",
   "metadata": {},
   "source": [
    "## Mining"
   ]
  },
  {
   "cell_type": "code",
   "execution_count": 11,
   "metadata": {},
   "outputs": [
    {
     "name": "stdout",
     "output_type": "stream",
     "text": [
      "CPU times: user 363 ms, sys: 120 ms, total: 484 ms\n",
      "Wall time: 83.8 ms\n"
     ]
    }
   ],
   "source": [
    "%%time\n",
    "result = dwarf()"
   ]
  },
  {
   "cell_type": "markdown",
   "metadata": {},
   "source": [
    "## Result is Dataframe in tree structure"
   ]
  },
  {
   "cell_type": "code",
   "execution_count": 15,
   "metadata": {},
   "outputs": [
    {
     "data": {
      "text/html": [
       "<div>\n",
       "<style scoped>\n",
       "    .dataframe tbody tr th:only-of-type {\n",
       "        vertical-align: middle;\n",
       "    }\n",
       "\n",
       "    .dataframe tbody tr th {\n",
       "        vertical-align: top;\n",
       "    }\n",
       "\n",
       "    .dataframe thead th {\n",
       "        text-align: right;\n",
       "    }\n",
       "</style>\n",
       "<table border=\"1\" class=\"dataframe\">\n",
       "  <thead>\n",
       "    <tr style=\"text-align: right;\">\n",
       "      <th></th>\n",
       "      <th>p_idx</th>\n",
       "      <th>DWARF MINED ROOT</th>\n",
       "      <th>pmid</th>\n",
       "      <th>abstract</th>\n",
       "      <th>ref_list</th>\n",
       "    </tr>\n",
       "  </thead>\n",
       "  <tbody>\n",
       "    <tr>\n",
       "      <th>0</th>\n",
       "      <td>0</td>\n",
       "      <td>../test/data/PMC4242289.xml</td>\n",
       "      <td>25422592</td>\n",
       "      <td>abstract:</td>\n",
       "      <td>ref_list:</td>\n",
       "    </tr>\n",
       "    <tr>\n",
       "      <th>1</th>\n",
       "      <td>1</td>\n",
       "      <td>../test/data/PMC4242291.xml</td>\n",
       "      <td>25422594</td>\n",
       "      <td>abstract:</td>\n",
       "      <td>ref_list:</td>\n",
       "    </tr>\n",
       "    <tr>\n",
       "      <th>2</th>\n",
       "      <td>2</td>\n",
       "      <td>../test/data/PMC4242290.xml</td>\n",
       "      <td>25422593</td>\n",
       "      <td>abstract:</td>\n",
       "      <td>ref_list:</td>\n",
       "    </tr>\n",
       "    <tr>\n",
       "      <th>3</th>\n",
       "      <td>3</td>\n",
       "      <td>../test/data/PMC4242288.xml</td>\n",
       "      <td>25422595</td>\n",
       "      <td>abstract:</td>\n",
       "      <td>ref_list:</td>\n",
       "    </tr>\n",
       "    <tr>\n",
       "      <th>4</th>\n",
       "      <td>4</td>\n",
       "      <td>../test/data/PMC4242441.xml</td>\n",
       "      <td>25325755</td>\n",
       "      <td>abstract:</td>\n",
       "      <td>ref_list:</td>\n",
       "    </tr>\n",
       "  </tbody>\n",
       "</table>\n",
       "</div>"
      ],
      "text/plain": [
       "   p_idx             DWARF MINED ROOT      pmid   abstract   ref_list\n",
       "0      0  ../test/data/PMC4242289.xml  25422592  abstract:  ref_list:\n",
       "1      1  ../test/data/PMC4242291.xml  25422594  abstract:  ref_list:\n",
       "2      2  ../test/data/PMC4242290.xml  25422593  abstract:  ref_list:\n",
       "3      3  ../test/data/PMC4242288.xml  25422595  abstract:  ref_list:\n",
       "4      4  ../test/data/PMC4242441.xml  25325755  abstract:  ref_list:"
      ]
     },
     "execution_count": 15,
     "metadata": {},
     "output_type": "execute_result"
    }
   ],
   "source": [
    "result.child_df().head()"
   ]
  },
  {
   "cell_type": "markdown",
   "metadata": {},
   "source": [
    "Result in tree structure"
   ]
  },
  {
   "cell_type": "code",
   "execution_count": 18,
   "metadata": {},
   "outputs": [
    {
     "data": {
      "text/html": [
       "<div>\n",
       "<style scoped>\n",
       "    .dataframe tbody tr th:only-of-type {\n",
       "        vertical-align: middle;\n",
       "    }\n",
       "\n",
       "    .dataframe tbody tr th {\n",
       "        vertical-align: top;\n",
       "    }\n",
       "\n",
       "    .dataframe thead th {\n",
       "        text-align: right;\n",
       "    }\n",
       "</style>\n",
       "<table border=\"1\" class=\"dataframe\">\n",
       "  <thead>\n",
       "    <tr style=\"text-align: right;\">\n",
       "      <th></th>\n",
       "      <th>p_idx</th>\n",
       "      <th>ref_list</th>\n",
       "      <th>reference</th>\n",
       "    </tr>\n",
       "  </thead>\n",
       "  <tbody>\n",
       "    <tr>\n",
       "      <th>0</th>\n",
       "      <td>0</td>\n",
       "      <td>ref_list:</td>\n",
       "      <td>[reference:, reference:, reference:, reference...</td>\n",
       "    </tr>\n",
       "    <tr>\n",
       "      <th>1</th>\n",
       "      <td>1</td>\n",
       "      <td>ref_list:</td>\n",
       "      <td>[reference:, reference:, reference:, reference...</td>\n",
       "    </tr>\n",
       "    <tr>\n",
       "      <th>2</th>\n",
       "      <td>2</td>\n",
       "      <td>ref_list:</td>\n",
       "      <td>[reference:, reference:, reference:, reference...</td>\n",
       "    </tr>\n",
       "    <tr>\n",
       "      <th>3</th>\n",
       "      <td>3</td>\n",
       "      <td>ref_list:</td>\n",
       "      <td>[reference:, reference:, reference:, reference...</td>\n",
       "    </tr>\n",
       "    <tr>\n",
       "      <th>4</th>\n",
       "      <td>4</td>\n",
       "      <td>ref_list:</td>\n",
       "      <td>[reference:]</td>\n",
       "    </tr>\n",
       "  </tbody>\n",
       "</table>\n",
       "</div>"
      ],
      "text/plain": [
       "   p_idx   ref_list                                          reference\n",
       "0      0  ref_list:  [reference:, reference:, reference:, reference...\n",
       "1      1  ref_list:  [reference:, reference:, reference:, reference...\n",
       "2      2  ref_list:  [reference:, reference:, reference:, reference...\n",
       "3      3  ref_list:  [reference:, reference:, reference:, reference...\n",
       "4      4  ref_list:                                       [reference:]"
      ]
     },
     "execution_count": 18,
     "metadata": {},
     "output_type": "execute_result"
    }
   ],
   "source": [
    "result['ref_list'].child_df().head()"
   ]
  },
  {
   "cell_type": "code",
   "execution_count": 20,
   "metadata": {},
   "outputs": [
    {
     "data": {
      "text/html": [
       "<div>\n",
       "<style scoped>\n",
       "    .dataframe tbody tr th:only-of-type {\n",
       "        vertical-align: middle;\n",
       "    }\n",
       "\n",
       "    .dataframe tbody tr th {\n",
       "        vertical-align: top;\n",
       "    }\n",
       "\n",
       "    .dataframe thead th {\n",
       "        text-align: right;\n",
       "    }\n",
       "</style>\n",
       "<table border=\"1\" class=\"dataframe\">\n",
       "  <thead>\n",
       "    <tr style=\"text-align: right;\">\n",
       "      <th></th>\n",
       "      <th>p_idx</th>\n",
       "      <th>reference</th>\n",
       "      <th>ref_id</th>\n",
       "      <th>doi</th>\n",
       "      <th>ref_name</th>\n",
       "    </tr>\n",
       "  </thead>\n",
       "  <tbody>\n",
       "    <tr>\n",
       "      <th>0</th>\n",
       "      <td>0</td>\n",
       "      <td>reference:</td>\n",
       "      <td>None</td>\n",
       "      <td>10.1038/nrendo.2012.100</td>\n",
       "      <td>[ref_name:, ref_name:]</td>\n",
       "    </tr>\n",
       "    <tr>\n",
       "      <th>1</th>\n",
       "      <td>0</td>\n",
       "      <td>reference:</td>\n",
       "      <td>None</td>\n",
       "      <td>10.1093/rheumatology/ker215</td>\n",
       "      <td>[ref_name:, ref_name:, ref_name:]</td>\n",
       "    </tr>\n",
       "    <tr>\n",
       "      <th>2</th>\n",
       "      <td>0</td>\n",
       "      <td>reference:</td>\n",
       "      <td>None</td>\n",
       "      <td>10.1016/j.tem.2008.07.009</td>\n",
       "      <td>[ref_name:, ref_name:]</td>\n",
       "    </tr>\n",
       "    <tr>\n",
       "      <th>3</th>\n",
       "      <td>0</td>\n",
       "      <td>reference:</td>\n",
       "      <td>None</td>\n",
       "      <td>10.1016/j.mce.2013.01.026</td>\n",
       "      <td>[ref_name:, ref_name:]</td>\n",
       "    </tr>\n",
       "    <tr>\n",
       "      <th>4</th>\n",
       "      <td>0</td>\n",
       "      <td>reference:</td>\n",
       "      <td>None</td>\n",
       "      <td>10.1016/j.molcel.2008.08.001</td>\n",
       "      <td>[ref_name:, ref_name:, ref_name:, ref_name:, r...</td>\n",
       "    </tr>\n",
       "  </tbody>\n",
       "</table>\n",
       "</div>"
      ],
      "text/plain": [
       "   p_idx   reference ref_id                           doi  \\\n",
       "0      0  reference:   None       10.1038/nrendo.2012.100   \n",
       "1      0  reference:   None   10.1093/rheumatology/ker215   \n",
       "2      0  reference:   None     10.1016/j.tem.2008.07.009   \n",
       "3      0  reference:   None     10.1016/j.mce.2013.01.026   \n",
       "4      0  reference:   None  10.1016/j.molcel.2008.08.001   \n",
       "\n",
       "                                            ref_name  \n",
       "0                             [ref_name:, ref_name:]  \n",
       "1                  [ref_name:, ref_name:, ref_name:]  \n",
       "2                             [ref_name:, ref_name:]  \n",
       "3                             [ref_name:, ref_name:]  \n",
       "4  [ref_name:, ref_name:, ref_name:, ref_name:, r...  "
      ]
     },
     "execution_count": 20,
     "metadata": {},
     "output_type": "execute_result"
    }
   ],
   "source": [
    "result['ref_list']['reference'].child_df().head()"
   ]
  },
  {
   "cell_type": "code",
   "execution_count": 14,
   "metadata": {},
   "outputs": [
    {
     "data": {
      "text/html": [
       "<div>\n",
       "<style scoped>\n",
       "    .dataframe tbody tr th:only-of-type {\n",
       "        vertical-align: middle;\n",
       "    }\n",
       "\n",
       "    .dataframe tbody tr th {\n",
       "        vertical-align: top;\n",
       "    }\n",
       "\n",
       "    .dataframe thead th {\n",
       "        text-align: right;\n",
       "    }\n",
       "</style>\n",
       "<table border=\"1\" class=\"dataframe\">\n",
       "  <thead>\n",
       "    <tr style=\"text-align: right;\">\n",
       "      <th></th>\n",
       "      <th>p_idx</th>\n",
       "      <th>reference</th>\n",
       "      <th>ref_id</th>\n",
       "      <th>doi</th>\n",
       "      <th>ref_name</th>\n",
       "    </tr>\n",
       "  </thead>\n",
       "  <tbody>\n",
       "    <tr>\n",
       "      <th>0</th>\n",
       "      <td>0</td>\n",
       "      <td>reference:</td>\n",
       "      <td>None</td>\n",
       "      <td>10.1038/nrendo.2012.100</td>\n",
       "      <td>[ref_name:, ref_name:]</td>\n",
       "    </tr>\n",
       "    <tr>\n",
       "      <th>1</th>\n",
       "      <td>0</td>\n",
       "      <td>reference:</td>\n",
       "      <td>None</td>\n",
       "      <td>10.1093/rheumatology/ker215</td>\n",
       "      <td>[ref_name:, ref_name:, ref_name:]</td>\n",
       "    </tr>\n",
       "    <tr>\n",
       "      <th>2</th>\n",
       "      <td>0</td>\n",
       "      <td>reference:</td>\n",
       "      <td>None</td>\n",
       "      <td>10.1016/j.tem.2008.07.009</td>\n",
       "      <td>[ref_name:, ref_name:]</td>\n",
       "    </tr>\n",
       "    <tr>\n",
       "      <th>3</th>\n",
       "      <td>0</td>\n",
       "      <td>reference:</td>\n",
       "      <td>None</td>\n",
       "      <td>10.1016/j.mce.2013.01.026</td>\n",
       "      <td>[ref_name:, ref_name:]</td>\n",
       "    </tr>\n",
       "    <tr>\n",
       "      <th>4</th>\n",
       "      <td>0</td>\n",
       "      <td>reference:</td>\n",
       "      <td>None</td>\n",
       "      <td>10.1016/j.molcel.2008.08.001</td>\n",
       "      <td>[ref_name:, ref_name:, ref_name:, ref_name:, r...</td>\n",
       "    </tr>\n",
       "  </tbody>\n",
       "</table>\n",
       "</div>"
      ],
      "text/plain": [
       "   p_idx   reference ref_id                           doi  \\\n",
       "0      0  reference:   None       10.1038/nrendo.2012.100   \n",
       "1      0  reference:   None   10.1093/rheumatology/ker215   \n",
       "2      0  reference:   None     10.1016/j.tem.2008.07.009   \n",
       "3      0  reference:   None     10.1016/j.mce.2013.01.026   \n",
       "4      0  reference:   None  10.1016/j.molcel.2008.08.001   \n",
       "\n",
       "                                            ref_name  \n",
       "0                             [ref_name:, ref_name:]  \n",
       "1                  [ref_name:, ref_name:, ref_name:]  \n",
       "2                             [ref_name:, ref_name:]  \n",
       "3                             [ref_name:, ref_name:]  \n",
       "4  [ref_name:, ref_name:, ref_name:, ref_name:, r...  "
      ]
     },
     "execution_count": 14,
     "metadata": {},
     "output_type": "execute_result"
    }
   ],
   "source": [
    "result['ref_list']['reference'].child_df().head()"
   ]
  }
 ],
 "metadata": {
  "kernelspec": {
   "display_name": "Python 3",
   "language": "python",
   "name": "python3"
  },
  "language_info": {
   "codemirror_mode": {
    "name": "ipython",
    "version": 3
   },
   "file_extension": ".py",
   "mimetype": "text/x-python",
   "name": "python",
   "nbconvert_exporter": "python",
   "pygments_lexer": "ipython3",
   "version": "3.7.4"
  },
  "toc": {
   "base_numbering": 1,
   "nav_menu": {},
   "number_sections": true,
   "sideBar": true,
   "skip_h1_title": false,
   "title_cell": "Table of Contents",
   "title_sidebar": "Contents",
   "toc_cell": false,
   "toc_position": {},
   "toc_section_display": true,
   "toc_window_display": false
  }
 },
 "nbformat": 4,
 "nbformat_minor": 4
}
